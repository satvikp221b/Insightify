{
 "cells": [
  {
   "cell_type": "code",
   "execution_count": 1,
   "id": "67d12a28",
   "metadata": {},
   "outputs": [],
   "source": [
    "import nltk\n",
    "import pickle\n",
    "import pandas as pd\n",
    "import numpy as np\n",
    "import spacy\n",
    "import re\n",
    "import sklearn\n",
    "from textblob import TextBlob\n",
    "from nltk.corpus import stopwords\n",
    "from nltk.stem import  PorterStemmer\n",
    "import gibberish_detector\n",
    "from langdetect import detect"
   ]
  },
  {
   "cell_type": "code",
   "execution_count": 2,
   "id": "ea8f77e9",
   "metadata": {},
   "outputs": [
    {
     "name": "stderr",
     "output_type": "stream",
     "text": [
      "C:\\Users\\satvi\\AppData\\Roaming\\Python\\Python39\\site-packages\\sklearn\\base.py:329: UserWarning: Trying to unpickle estimator LogisticRegression from version 0.23.1 when using version 1.1.3. This might lead to breaking code or invalid results. Use at your own risk. For more info please refer to:\n",
      "https://scikit-learn.org/stable/model_persistence.html#security-maintainability-limitations\n",
      "  warnings.warn(\n",
      "C:\\Users\\satvi\\AppData\\Roaming\\Python\\Python39\\site-packages\\sklearn\\base.py:329: UserWarning: Trying to unpickle estimator CountVectorizer from version 0.23.1 when using version 1.1.3. This might lead to breaking code or invalid results. Use at your own risk. For more info please refer to:\n",
      "https://scikit-learn.org/stable/model_persistence.html#security-maintainability-limitations\n",
      "  warnings.warn(\n",
      "[nltk_data] Downloading package stopwords to\n",
      "[nltk_data]     C:\\Users\\satvi\\AppData\\Roaming\\nltk_data...\n",
      "[nltk_data]   Package stopwords is already up-to-date!\n"
     ]
    }
   ],
   "source": [
    "model = pickle.load(open('best_model.pkl','rb')) \n",
    "vectorizer = pickle.load(open('count_vectorizer.pkl','rb')) \n",
    "\n",
    "#FOR STREAMLIT\n",
    "nltk.download('stopwords')\n",
    "\n",
    "#TEXT PREPROCESSING\n",
    "sw = set(stopwords.words('english'))\n",
    "def text_preprocessing(text):\n",
    "    txt = TextBlob(text)\n",
    "    result = txt.correct()\n",
    "    removed_special_characters = re.sub(\"[^a-zA-Z]\", \" \", str(result))\n",
    "    tokens = removed_special_characters.lower().split()\n",
    "    stemmer = PorterStemmer()\n",
    "    \n",
    "    cleaned = []\n",
    "    stemmed = []\n",
    "    \n",
    "    for token in tokens:\n",
    "        if token not in sw:\n",
    "            cleaned.append(token)\n",
    "            \n",
    "    for token in cleaned:\n",
    "        token = stemmer.stem(token)\n",
    "        stemmed.append(token)\n",
    "\n",
    "    return \" \".join(stemmed)\n",
    "\n",
    "#TEXT CLASSIFICATION\n",
    "def text_classification(text):\n",
    "    if len(text) < 1:\n",
    "        return \"Fake Review\"\n",
    "    else:\n",
    "        \n",
    "        cleaned_review = text_preprocessing(text)\n",
    "        process = vectorizer.transform([cleaned_review]).toarray()\n",
    "        prediction = model.predict(process)\n",
    "        p = ''.join(str(i) for i in prediction)\n",
    "        \n",
    "        if p == 'True':\n",
    "            return \"Legit Review\"#st.success(\"The review entered is Legitimate.\")\n",
    "        if p == 'False':\n",
    "            return \"Fake Review\"#st.error(\"The review entered is Fraudulent.\")"
   ]
  },
  {
   "cell_type": "code",
   "execution_count": 68,
   "id": "3e2890b0",
   "metadata": {},
   "outputs": [],
   "source": []
  },
  {
   "cell_type": "code",
   "execution_count": 3,
   "id": "67f363c8",
   "metadata": {},
   "outputs": [],
   "source": [
    "txt='This is a very bad course for sure, i mean extremely bad'"
   ]
  },
  {
   "cell_type": "code",
   "execution_count": 4,
   "id": "a0c733c7",
   "metadata": {},
   "outputs": [],
   "source": [
    "pre=text_preprocessing(txt)"
   ]
  },
  {
   "cell_type": "code",
   "execution_count": 5,
   "id": "df87d7aa",
   "metadata": {},
   "outputs": [
    {
     "data": {
      "text/plain": [
       "'bad cours sure mean extrem bad'"
      ]
     },
     "execution_count": 5,
     "metadata": {},
     "output_type": "execute_result"
    }
   ],
   "source": [
    "pre"
   ]
  },
  {
   "cell_type": "code",
   "execution_count": 6,
   "id": "ab90c985",
   "metadata": {},
   "outputs": [
    {
     "data": {
      "text/plain": [
       "'Legit Review'"
      ]
     },
     "execution_count": 6,
     "metadata": {},
     "output_type": "execute_result"
    }
   ],
   "source": [
    "text_classification(txt)"
   ]
  },
  {
   "cell_type": "code",
   "execution_count": 7,
   "id": "dd46e1e1",
   "metadata": {},
   "outputs": [],
   "source": [
    "txt='skjdhawkwd ask l'"
   ]
  },
  {
   "cell_type": "code",
   "execution_count": 8,
   "id": "dbd32ebb",
   "metadata": {},
   "outputs": [
    {
     "name": "stdout",
     "output_type": "stream",
     "text": [
      "Fake Review\n"
     ]
    }
   ],
   "source": [
    "if detect(txt)!='en':\n",
    "    print('Fake Review')\n",
    "else:\n",
    "    print('Legit Review')"
   ]
  },
  {
   "cell_type": "code",
   "execution_count": 9,
   "id": "489743d2",
   "metadata": {},
   "outputs": [
    {
     "data": {
      "text/plain": [
       "'pl'"
      ]
     },
     "execution_count": 9,
     "metadata": {},
     "output_type": "execute_result"
    }
   ],
   "source": [
    "detect(txt)"
   ]
  },
  {
   "cell_type": "code",
   "execution_count": 10,
   "id": "8aa2d5b6",
   "metadata": {},
   "outputs": [
    {
     "ename": "FileNotFoundError",
     "evalue": "[Errno 2] No such file or directory: 'big.model'",
     "output_type": "error",
     "traceback": [
      "\u001b[1;31m---------------------------------------------------------------------------\u001b[0m",
      "\u001b[1;31mFileNotFoundError\u001b[0m                         Traceback (most recent call last)",
      "\u001b[1;32m~\\AppData\\Local\\Temp\\ipykernel_13612\\501147681.py\u001b[0m in \u001b[0;36m<module>\u001b[1;34m\u001b[0m\n\u001b[0;32m      1\u001b[0m \u001b[1;32mfrom\u001b[0m \u001b[0mgibberish_detector\u001b[0m \u001b[1;32mimport\u001b[0m \u001b[0mdetector\u001b[0m\u001b[1;33m\u001b[0m\u001b[1;33m\u001b[0m\u001b[0m\n\u001b[1;32m----> 2\u001b[1;33m \u001b[0mDetector\u001b[0m \u001b[1;33m=\u001b[0m \u001b[0mdetector\u001b[0m\u001b[1;33m.\u001b[0m\u001b[0mcreate_from_model\u001b[0m\u001b[1;33m(\u001b[0m\u001b[1;34m'big.model'\u001b[0m\u001b[1;33m)\u001b[0m\u001b[1;33m\u001b[0m\u001b[1;33m\u001b[0m\u001b[0m\n\u001b[0m\u001b[0;32m      3\u001b[0m \u001b[0mprint\u001b[0m\u001b[1;33m(\u001b[0m\u001b[0mDetector\u001b[0m\u001b[1;33m.\u001b[0m\u001b[0mis_gibberish\u001b[0m\u001b[1;33m(\u001b[0m\u001b[1;34m'ertrjiloifdfyyoiu'\u001b[0m\u001b[1;33m)\u001b[0m\u001b[1;33m)\u001b[0m\u001b[1;33m\u001b[0m\u001b[1;33m\u001b[0m\u001b[0m\n",
      "\u001b[1;32m~\\AppData\\Roaming\\Python\\Python39\\site-packages\\gibberish_detector\\detector.py\u001b[0m in \u001b[0;36mcreate_from_model\u001b[1;34m(filename, limit)\u001b[0m\n\u001b[0;32m      9\u001b[0m     \u001b[1;33m:\u001b[0m\u001b[0mraises\u001b[0m\u001b[1;33m:\u001b[0m \u001b[0mParsingError\u001b[0m\u001b[1;33m\u001b[0m\u001b[1;33m\u001b[0m\u001b[0m\n\u001b[0;32m     10\u001b[0m     \"\"\"\n\u001b[1;32m---> 11\u001b[1;33m     \u001b[1;32mwith\u001b[0m \u001b[0mopen\u001b[0m\u001b[1;33m(\u001b[0m\u001b[0mfilename\u001b[0m\u001b[1;33m)\u001b[0m \u001b[1;32mas\u001b[0m \u001b[0mf\u001b[0m\u001b[1;33m:\u001b[0m\u001b[1;33m\u001b[0m\u001b[1;33m\u001b[0m\u001b[0m\n\u001b[0m\u001b[0;32m     12\u001b[0m         \u001b[0mmodel\u001b[0m \u001b[1;33m=\u001b[0m \u001b[0mserializer\u001b[0m\u001b[1;33m.\u001b[0m\u001b[0mdeserialize\u001b[0m\u001b[1;33m(\u001b[0m\u001b[0mf\u001b[0m\u001b[1;33m.\u001b[0m\u001b[0mread\u001b[0m\u001b[1;33m(\u001b[0m\u001b[1;33m)\u001b[0m\u001b[1;33m)\u001b[0m\u001b[1;33m\u001b[0m\u001b[1;33m\u001b[0m\u001b[0m\n\u001b[0;32m     13\u001b[0m \u001b[1;33m\u001b[0m\u001b[0m\n",
      "\u001b[1;31mFileNotFoundError\u001b[0m: [Errno 2] No such file or directory: 'big.model'"
     ]
    }
   ],
   "source": [
    "from gibberish_detector import detector\n",
    "Detector = detector.create_from_model('big.model')\n",
    "print(Detector.is_gibberish('ertrjiloifdfyyoiu'))\n"
   ]
  },
  {
   "cell_type": "code",
   "execution_count": 11,
   "id": "f5e60b49",
   "metadata": {},
   "outputs": [],
   "source": [
    "from gibberish_detector import detector"
   ]
  },
  {
   "cell_type": "code",
   "execution_count": 12,
   "id": "17a15d67",
   "metadata": {},
   "outputs": [
    {
     "ename": "ParsingError",
     "evalue": "",
     "output_type": "error",
     "traceback": [
      "\u001b[1;31m---------------------------------------------------------------------------\u001b[0m",
      "\u001b[1;31mJSONDecodeError\u001b[0m                           Traceback (most recent call last)",
      "\u001b[1;32m~\\AppData\\Roaming\\Python\\Python39\\site-packages\\gibberish_detector\\serializer.py\u001b[0m in \u001b[0;36mdeserialize\u001b[1;34m(payload)\u001b[0m\n\u001b[0;32m     23\u001b[0m     \u001b[1;32mtry\u001b[0m\u001b[1;33m:\u001b[0m\u001b[1;33m\u001b[0m\u001b[1;33m\u001b[0m\u001b[0m\n\u001b[1;32m---> 24\u001b[1;33m         \u001b[0mraw_data\u001b[0m \u001b[1;33m=\u001b[0m \u001b[0mjson\u001b[0m\u001b[1;33m.\u001b[0m\u001b[0mloads\u001b[0m\u001b[1;33m(\u001b[0m\u001b[0mpayload\u001b[0m\u001b[1;33m)\u001b[0m\u001b[1;33m\u001b[0m\u001b[1;33m\u001b[0m\u001b[0m\n\u001b[0m\u001b[0;32m     25\u001b[0m     \u001b[1;32mexcept\u001b[0m \u001b[0mjson\u001b[0m\u001b[1;33m.\u001b[0m\u001b[0mdecoder\u001b[0m\u001b[1;33m.\u001b[0m\u001b[0mJSONDecodeError\u001b[0m\u001b[1;33m:\u001b[0m\u001b[1;33m\u001b[0m\u001b[1;33m\u001b[0m\u001b[0m\n",
      "\u001b[1;32mC:\\ProgramData\\Anaconda3\\lib\\json\\__init__.py\u001b[0m in \u001b[0;36mloads\u001b[1;34m(s, cls, object_hook, parse_float, parse_int, parse_constant, object_pairs_hook, **kw)\u001b[0m\n\u001b[0;32m    345\u001b[0m             parse_constant is None and object_pairs_hook is None and not kw):\n\u001b[1;32m--> 346\u001b[1;33m         \u001b[1;32mreturn\u001b[0m \u001b[0m_default_decoder\u001b[0m\u001b[1;33m.\u001b[0m\u001b[0mdecode\u001b[0m\u001b[1;33m(\u001b[0m\u001b[0ms\u001b[0m\u001b[1;33m)\u001b[0m\u001b[1;33m\u001b[0m\u001b[1;33m\u001b[0m\u001b[0m\n\u001b[0m\u001b[0;32m    347\u001b[0m     \u001b[1;32mif\u001b[0m \u001b[0mcls\u001b[0m \u001b[1;32mis\u001b[0m \u001b[1;32mNone\u001b[0m\u001b[1;33m:\u001b[0m\u001b[1;33m\u001b[0m\u001b[1;33m\u001b[0m\u001b[0m\n",
      "\u001b[1;32mC:\\ProgramData\\Anaconda3\\lib\\json\\decoder.py\u001b[0m in \u001b[0;36mdecode\u001b[1;34m(self, s, _w)\u001b[0m\n\u001b[0;32m    336\u001b[0m         \"\"\"\n\u001b[1;32m--> 337\u001b[1;33m         \u001b[0mobj\u001b[0m\u001b[1;33m,\u001b[0m \u001b[0mend\u001b[0m \u001b[1;33m=\u001b[0m \u001b[0mself\u001b[0m\u001b[1;33m.\u001b[0m\u001b[0mraw_decode\u001b[0m\u001b[1;33m(\u001b[0m\u001b[0ms\u001b[0m\u001b[1;33m,\u001b[0m \u001b[0midx\u001b[0m\u001b[1;33m=\u001b[0m\u001b[0m_w\u001b[0m\u001b[1;33m(\u001b[0m\u001b[0ms\u001b[0m\u001b[1;33m,\u001b[0m \u001b[1;36m0\u001b[0m\u001b[1;33m)\u001b[0m\u001b[1;33m.\u001b[0m\u001b[0mend\u001b[0m\u001b[1;33m(\u001b[0m\u001b[1;33m)\u001b[0m\u001b[1;33m)\u001b[0m\u001b[1;33m\u001b[0m\u001b[1;33m\u001b[0m\u001b[0m\n\u001b[0m\u001b[0;32m    338\u001b[0m         \u001b[0mend\u001b[0m \u001b[1;33m=\u001b[0m \u001b[0m_w\u001b[0m\u001b[1;33m(\u001b[0m\u001b[0ms\u001b[0m\u001b[1;33m,\u001b[0m \u001b[0mend\u001b[0m\u001b[1;33m)\u001b[0m\u001b[1;33m.\u001b[0m\u001b[0mend\u001b[0m\u001b[1;33m(\u001b[0m\u001b[1;33m)\u001b[0m\u001b[1;33m\u001b[0m\u001b[1;33m\u001b[0m\u001b[0m\n",
      "\u001b[1;32mC:\\ProgramData\\Anaconda3\\lib\\json\\decoder.py\u001b[0m in \u001b[0;36mraw_decode\u001b[1;34m(self, s, idx)\u001b[0m\n\u001b[0;32m    354\u001b[0m         \u001b[1;32mexcept\u001b[0m \u001b[0mStopIteration\u001b[0m \u001b[1;32mas\u001b[0m \u001b[0merr\u001b[0m\u001b[1;33m:\u001b[0m\u001b[1;33m\u001b[0m\u001b[1;33m\u001b[0m\u001b[0m\n\u001b[1;32m--> 355\u001b[1;33m             \u001b[1;32mraise\u001b[0m \u001b[0mJSONDecodeError\u001b[0m\u001b[1;33m(\u001b[0m\u001b[1;34m\"Expecting value\"\u001b[0m\u001b[1;33m,\u001b[0m \u001b[0ms\u001b[0m\u001b[1;33m,\u001b[0m \u001b[0merr\u001b[0m\u001b[1;33m.\u001b[0m\u001b[0mvalue\u001b[0m\u001b[1;33m)\u001b[0m \u001b[1;32mfrom\u001b[0m \u001b[1;32mNone\u001b[0m\u001b[1;33m\u001b[0m\u001b[1;33m\u001b[0m\u001b[0m\n\u001b[0m\u001b[0;32m    356\u001b[0m         \u001b[1;32mreturn\u001b[0m \u001b[0mobj\u001b[0m\u001b[1;33m,\u001b[0m \u001b[0mend\u001b[0m\u001b[1;33m\u001b[0m\u001b[1;33m\u001b[0m\u001b[0m\n",
      "\u001b[1;31mJSONDecodeError\u001b[0m: Expecting value: line 1 column 1 (char 0)",
      "\nDuring handling of the above exception, another exception occurred:\n",
      "\u001b[1;31mParsingError\u001b[0m                              Traceback (most recent call last)",
      "\u001b[1;32m~\\AppData\\Local\\Temp\\ipykernel_13612\\1910829386.py\u001b[0m in \u001b[0;36m<module>\u001b[1;34m\u001b[0m\n\u001b[1;32m----> 1\u001b[1;33m \u001b[0mDetector\u001b[0m \u001b[1;33m=\u001b[0m \u001b[0mdetector\u001b[0m\u001b[1;33m.\u001b[0m\u001b[0mcreate_from_model\u001b[0m\u001b[1;33m(\u001b[0m\u001b[1;34m'big.txt'\u001b[0m\u001b[1;33m)\u001b[0m\u001b[1;33m\u001b[0m\u001b[1;33m\u001b[0m\u001b[0m\n\u001b[0m",
      "\u001b[1;32m~\\AppData\\Roaming\\Python\\Python39\\site-packages\\gibberish_detector\\detector.py\u001b[0m in \u001b[0;36mcreate_from_model\u001b[1;34m(filename, limit)\u001b[0m\n\u001b[0;32m     10\u001b[0m     \"\"\"\n\u001b[0;32m     11\u001b[0m     \u001b[1;32mwith\u001b[0m \u001b[0mopen\u001b[0m\u001b[1;33m(\u001b[0m\u001b[0mfilename\u001b[0m\u001b[1;33m)\u001b[0m \u001b[1;32mas\u001b[0m \u001b[0mf\u001b[0m\u001b[1;33m:\u001b[0m\u001b[1;33m\u001b[0m\u001b[1;33m\u001b[0m\u001b[0m\n\u001b[1;32m---> 12\u001b[1;33m         \u001b[0mmodel\u001b[0m \u001b[1;33m=\u001b[0m \u001b[0mserializer\u001b[0m\u001b[1;33m.\u001b[0m\u001b[0mdeserialize\u001b[0m\u001b[1;33m(\u001b[0m\u001b[0mf\u001b[0m\u001b[1;33m.\u001b[0m\u001b[0mread\u001b[0m\u001b[1;33m(\u001b[0m\u001b[1;33m)\u001b[0m\u001b[1;33m)\u001b[0m\u001b[1;33m\u001b[0m\u001b[1;33m\u001b[0m\u001b[0m\n\u001b[0m\u001b[0;32m     13\u001b[0m \u001b[1;33m\u001b[0m\u001b[0m\n\u001b[0;32m     14\u001b[0m     \u001b[1;32mreturn\u001b[0m \u001b[0mDetector\u001b[0m\u001b[1;33m(\u001b[0m\u001b[0mmodel\u001b[0m\u001b[1;33m,\u001b[0m \u001b[0mlimit\u001b[0m\u001b[1;33m)\u001b[0m\u001b[1;33m\u001b[0m\u001b[1;33m\u001b[0m\u001b[0m\n",
      "\u001b[1;32m~\\AppData\\Roaming\\Python\\Python39\\site-packages\\gibberish_detector\\serializer.py\u001b[0m in \u001b[0;36mdeserialize\u001b[1;34m(payload)\u001b[0m\n\u001b[0;32m     24\u001b[0m         \u001b[0mraw_data\u001b[0m \u001b[1;33m=\u001b[0m \u001b[0mjson\u001b[0m\u001b[1;33m.\u001b[0m\u001b[0mloads\u001b[0m\u001b[1;33m(\u001b[0m\u001b[0mpayload\u001b[0m\u001b[1;33m)\u001b[0m\u001b[1;33m\u001b[0m\u001b[1;33m\u001b[0m\u001b[0m\n\u001b[0;32m     25\u001b[0m     \u001b[1;32mexcept\u001b[0m \u001b[0mjson\u001b[0m\u001b[1;33m.\u001b[0m\u001b[0mdecoder\u001b[0m\u001b[1;33m.\u001b[0m\u001b[0mJSONDecodeError\u001b[0m\u001b[1;33m:\u001b[0m\u001b[1;33m\u001b[0m\u001b[1;33m\u001b[0m\u001b[0m\n\u001b[1;32m---> 26\u001b[1;33m         \u001b[1;32mraise\u001b[0m \u001b[0mParsingError\u001b[0m\u001b[1;33m\u001b[0m\u001b[1;33m\u001b[0m\u001b[0m\n\u001b[0m\u001b[0;32m     27\u001b[0m \u001b[1;33m\u001b[0m\u001b[0m\n\u001b[0;32m     28\u001b[0m     \u001b[1;32mreturn\u001b[0m \u001b[0mModel\u001b[0m\u001b[1;33m.\u001b[0m\u001b[0mfrom_dict\u001b[0m\u001b[1;33m(\u001b[0m\u001b[0mraw_data\u001b[0m\u001b[1;33m)\u001b[0m\u001b[1;33m\u001b[0m\u001b[1;33m\u001b[0m\u001b[0m\n",
      "\u001b[1;31mParsingError\u001b[0m: "
     ]
    }
   ],
   "source": [
    "Detector = detector.create_from_model('big.txt')"
   ]
  },
  {
   "cell_type": "code",
   "execution_count": 124,
   "id": "ad10f1da",
   "metadata": {},
   "outputs": [],
   "source": [
    "df=pd.read_csv('SubReviews.csv')"
   ]
  },
  {
   "cell_type": "code",
   "execution_count": 125,
   "id": "d75ac2b9",
   "metadata": {},
   "outputs": [],
   "source": [
    "reviews=pd.read_csv(\"Reviews.csv\")"
   ]
  },
  {
   "cell_type": "code",
   "execution_count": 126,
   "id": "f1b7008e",
   "metadata": {},
   "outputs": [
    {
     "data": {
      "text/html": [
       "<div>\n",
       "<style scoped>\n",
       "    .dataframe tbody tr th:only-of-type {\n",
       "        vertical-align: middle;\n",
       "    }\n",
       "\n",
       "    .dataframe tbody tr th {\n",
       "        vertical-align: top;\n",
       "    }\n",
       "\n",
       "    .dataframe thead th {\n",
       "        text-align: right;\n",
       "    }\n",
       "</style>\n",
       "<table border=\"1\" class=\"dataframe\">\n",
       "  <thead>\n",
       "    <tr style=\"text-align: right;\">\n",
       "      <th></th>\n",
       "      <th>Unnamed: 0</th>\n",
       "      <th>ReviewId</th>\n",
       "      <th>AssessmentId</th>\n",
       "      <th>Workload</th>\n",
       "      <th>Difficulty</th>\n",
       "      <th>Rating</th>\n",
       "      <th>Text Reviews</th>\n",
       "    </tr>\n",
       "  </thead>\n",
       "  <tbody>\n",
       "    <tr>\n",
       "      <th>0</th>\n",
       "      <td>0</td>\n",
       "      <td>74537</td>\n",
       "      <td>14006</td>\n",
       "      <td>2</td>\n",
       "      <td>5</td>\n",
       "      <td>5</td>\n",
       "      <td>I absolutely love this course. It's complete, ...</td>\n",
       "    </tr>\n",
       "    <tr>\n",
       "      <th>1</th>\n",
       "      <td>1</td>\n",
       "      <td>74537</td>\n",
       "      <td>14007</td>\n",
       "      <td>5</td>\n",
       "      <td>2</td>\n",
       "      <td>5</td>\n",
       "      <td>Excellent information presented in an efficien...</td>\n",
       "    </tr>\n",
       "    <tr>\n",
       "      <th>2</th>\n",
       "      <td>2</td>\n",
       "      <td>74537</td>\n",
       "      <td>14008</td>\n",
       "      <td>2</td>\n",
       "      <td>2</td>\n",
       "      <td>5</td>\n",
       "      <td>This was a great module. Loved it, learned a lot.</td>\n",
       "    </tr>\n",
       "    <tr>\n",
       "      <th>3</th>\n",
       "      <td>3</td>\n",
       "      <td>74537</td>\n",
       "      <td>14009</td>\n",
       "      <td>5</td>\n",
       "      <td>3</td>\n",
       "      <td>5</td>\n",
       "      <td>Excellent overview of finance basics with refe...</td>\n",
       "    </tr>\n",
       "    <tr>\n",
       "      <th>4</th>\n",
       "      <td>4</td>\n",
       "      <td>74537</td>\n",
       "      <td>14010</td>\n",
       "      <td>3</td>\n",
       "      <td>3</td>\n",
       "      <td>4</td>\n",
       "      <td>some of the content and videos were too wordy ...</td>\n",
       "    </tr>\n",
       "    <tr>\n",
       "      <th>...</th>\n",
       "      <td>...</td>\n",
       "      <td>...</td>\n",
       "      <td>...</td>\n",
       "      <td>...</td>\n",
       "      <td>...</td>\n",
       "      <td>...</td>\n",
       "      <td>...</td>\n",
       "    </tr>\n",
       "    <tr>\n",
       "      <th>66305</th>\n",
       "      <td>66305</td>\n",
       "      <td>82110</td>\n",
       "      <td>15045</td>\n",
       "      <td>3</td>\n",
       "      <td>3</td>\n",
       "      <td>5</td>\n",
       "      <td>Overall I thought the level of the course was ...</td>\n",
       "    </tr>\n",
       "    <tr>\n",
       "      <th>66306</th>\n",
       "      <td>66306</td>\n",
       "      <td>82110</td>\n",
       "      <td>15046</td>\n",
       "      <td>1</td>\n",
       "      <td>3</td>\n",
       "      <td>5</td>\n",
       "      <td>great course. highly organized and well presen...</td>\n",
       "    </tr>\n",
       "    <tr>\n",
       "      <th>66307</th>\n",
       "      <td>66307</td>\n",
       "      <td>82110</td>\n",
       "      <td>15047</td>\n",
       "      <td>3</td>\n",
       "      <td>3</td>\n",
       "      <td>5</td>\n",
       "      <td>World class teaching. Making medical students'...</td>\n",
       "    </tr>\n",
       "    <tr>\n",
       "      <th>66308</th>\n",
       "      <td>66308</td>\n",
       "      <td>82110</td>\n",
       "      <td>15048</td>\n",
       "      <td>5</td>\n",
       "      <td>3</td>\n",
       "      <td>3</td>\n",
       "      <td>JS should be more indepth.</td>\n",
       "    </tr>\n",
       "    <tr>\n",
       "      <th>66309</th>\n",
       "      <td>66309</td>\n",
       "      <td>82110</td>\n",
       "      <td>15049</td>\n",
       "      <td>5</td>\n",
       "      <td>5</td>\n",
       "      <td>5</td>\n",
       "      <td>Awesome :) Very interactive</td>\n",
       "    </tr>\n",
       "  </tbody>\n",
       "</table>\n",
       "<p>66310 rows × 7 columns</p>\n",
       "</div>"
      ],
      "text/plain": [
       "       Unnamed: 0  ReviewId  AssessmentId  Workload  Difficulty  Rating  \\\n",
       "0               0     74537         14006         2           5       5   \n",
       "1               1     74537         14007         5           2       5   \n",
       "2               2     74537         14008         2           2       5   \n",
       "3               3     74537         14009         5           3       5   \n",
       "4               4     74537         14010         3           3       4   \n",
       "...           ...       ...           ...       ...         ...     ...   \n",
       "66305       66305     82110         15045         3           3       5   \n",
       "66306       66306     82110         15046         1           3       5   \n",
       "66307       66307     82110         15047         3           3       5   \n",
       "66308       66308     82110         15048         5           3       3   \n",
       "66309       66309     82110         15049         5           5       5   \n",
       "\n",
       "                                            Text Reviews  \n",
       "0      I absolutely love this course. It's complete, ...  \n",
       "1      Excellent information presented in an efficien...  \n",
       "2      This was a great module. Loved it, learned a lot.  \n",
       "3      Excellent overview of finance basics with refe...  \n",
       "4      some of the content and videos were too wordy ...  \n",
       "...                                                  ...  \n",
       "66305  Overall I thought the level of the course was ...  \n",
       "66306  great course. highly organized and well presen...  \n",
       "66307  World class teaching. Making medical students'...  \n",
       "66308                         JS should be more indepth.  \n",
       "66309                        Awesome :) Very interactive  \n",
       "\n",
       "[66310 rows x 7 columns]"
      ]
     },
     "execution_count": 126,
     "metadata": {},
     "output_type": "execute_result"
    }
   ],
   "source": []
  },
  {
   "cell_type": "code",
   "execution_count": 128,
   "id": "6999ea03",
   "metadata": {},
   "outputs": [
    {
     "data": {
      "text/html": [
       "<div>\n",
       "<style scoped>\n",
       "    .dataframe tbody tr th:only-of-type {\n",
       "        vertical-align: middle;\n",
       "    }\n",
       "\n",
       "    .dataframe tbody tr th {\n",
       "        vertical-align: top;\n",
       "    }\n",
       "\n",
       "    .dataframe thead th {\n",
       "        text-align: right;\n",
       "    }\n",
       "</style>\n",
       "<table border=\"1\" class=\"dataframe\">\n",
       "  <thead>\n",
       "    <tr style=\"text-align: right;\">\n",
       "      <th></th>\n",
       "      <th>ReviewId</th>\n",
       "      <th>NetId</th>\n",
       "      <th>CRN</th>\n",
       "      <th>WorkLoad</th>\n",
       "      <th>Difficulty</th>\n",
       "      <th>Rating</th>\n",
       "      <th>TextReview</th>\n",
       "      <th>Date</th>\n",
       "      <th>Term</th>\n",
       "    </tr>\n",
       "  </thead>\n",
       "  <tbody>\n",
       "    <tr>\n",
       "      <th>77248</th>\n",
       "      <td>77248</td>\n",
       "      <td>RichardRe27</td>\n",
       "      <td>CS411</td>\n",
       "      <td>3</td>\n",
       "      <td>3</td>\n",
       "      <td>5</td>\n",
       "      <td>Great course</td>\n",
       "      <td>23 December 2010</td>\n",
       "      <td>Fall-2010</td>\n",
       "    </tr>\n",
       "    <tr>\n",
       "      <th>77249</th>\n",
       "      <td>77249</td>\n",
       "      <td>DanielPh32</td>\n",
       "      <td>CS411</td>\n",
       "      <td>5</td>\n",
       "      <td>3</td>\n",
       "      <td>1</td>\n",
       "      <td>The course is very superficial in nature and t...</td>\n",
       "      <td>06 September 2010</td>\n",
       "      <td>Fall-2010</td>\n",
       "    </tr>\n",
       "    <tr>\n",
       "      <th>77250</th>\n",
       "      <td>77250</td>\n",
       "      <td>ChristopherLo59</td>\n",
       "      <td>CS411</td>\n",
       "      <td>3</td>\n",
       "      <td>2</td>\n",
       "      <td>1</td>\n",
       "      <td>Very elementary coursework. Quizzes were too s...</td>\n",
       "      <td>15 December 2010</td>\n",
       "      <td>Fall-2010</td>\n",
       "    </tr>\n",
       "    <tr>\n",
       "      <th>77251</th>\n",
       "      <td>77251</td>\n",
       "      <td>HenryTu99</td>\n",
       "      <td>CS411</td>\n",
       "      <td>3</td>\n",
       "      <td>2</td>\n",
       "      <td>4</td>\n",
       "      <td>Useful in everyday life as in professional car...</td>\n",
       "      <td>13 September 2010</td>\n",
       "      <td>Fall-2010</td>\n",
       "    </tr>\n",
       "    <tr>\n",
       "      <th>77252</th>\n",
       "      <td>77252</td>\n",
       "      <td>JamesMc80</td>\n",
       "      <td>CS411</td>\n",
       "      <td>3</td>\n",
       "      <td>5</td>\n",
       "      <td>4</td>\n",
       "      <td>This course provided clear tips and reflective...</td>\n",
       "      <td>03 October 2010</td>\n",
       "      <td>Fall-2010</td>\n",
       "    </tr>\n",
       "    <tr>\n",
       "      <th>...</th>\n",
       "      <td>...</td>\n",
       "      <td>...</td>\n",
       "      <td>...</td>\n",
       "      <td>...</td>\n",
       "      <td>...</td>\n",
       "      <td>...</td>\n",
       "      <td>...</td>\n",
       "      <td>...</td>\n",
       "      <td>...</td>\n",
       "    </tr>\n",
       "    <tr>\n",
       "      <th>77505</th>\n",
       "      <td>77505</td>\n",
       "      <td>RaymondPe92</td>\n",
       "      <td>CS411</td>\n",
       "      <td>3</td>\n",
       "      <td>2</td>\n",
       "      <td>5</td>\n",
       "      <td>Great Course, I really enjoyed it. The course ...</td>\n",
       "      <td>22 December 2021</td>\n",
       "      <td>Fall-2021</td>\n",
       "    </tr>\n",
       "    <tr>\n",
       "      <th>77506</th>\n",
       "      <td>77506</td>\n",
       "      <td>JamieMi37</td>\n",
       "      <td>CS411</td>\n",
       "      <td>5</td>\n",
       "      <td>3</td>\n",
       "      <td>5</td>\n",
       "      <td>For folks that have never programmed this clas...</td>\n",
       "      <td>22 January 2022</td>\n",
       "      <td>Fall-2021</td>\n",
       "    </tr>\n",
       "    <tr>\n",
       "      <th>77507</th>\n",
       "      <td>77507</td>\n",
       "      <td>MatthewVi76</td>\n",
       "      <td>CS411</td>\n",
       "      <td>2</td>\n",
       "      <td>2</td>\n",
       "      <td>5</td>\n",
       "      <td>Neatly explained. Easy to learn and must for b...</td>\n",
       "      <td>30 November 2021</td>\n",
       "      <td>Fall-2021</td>\n",
       "    </tr>\n",
       "    <tr>\n",
       "      <th>77508</th>\n",
       "      <td>77508</td>\n",
       "      <td>PatriciaDe20</td>\n",
       "      <td>CS411</td>\n",
       "      <td>3</td>\n",
       "      <td>2</td>\n",
       "      <td>5</td>\n",
       "      <td>Through this course I've got to know about the...</td>\n",
       "      <td>11 February 2021</td>\n",
       "      <td>Spring-2021</td>\n",
       "    </tr>\n",
       "    <tr>\n",
       "      <th>77509</th>\n",
       "      <td>77509</td>\n",
       "      <td>TravisBu65</td>\n",
       "      <td>CS411</td>\n",
       "      <td>5</td>\n",
       "      <td>2</td>\n",
       "      <td>5</td>\n",
       "      <td>very interesting, very helpful, very entertain...</td>\n",
       "      <td>25 June 2021</td>\n",
       "      <td>Summer-2021</td>\n",
       "    </tr>\n",
       "  </tbody>\n",
       "</table>\n",
       "<p>262 rows × 9 columns</p>\n",
       "</div>"
      ],
      "text/plain": [
       "       ReviewId            NetId    CRN  WorkLoad  Difficulty  Rating  \\\n",
       "77248     77248      RichardRe27  CS411         3           3       5   \n",
       "77249     77249       DanielPh32  CS411         5           3       1   \n",
       "77250     77250  ChristopherLo59  CS411         3           2       1   \n",
       "77251     77251        HenryTu99  CS411         3           2       4   \n",
       "77252     77252        JamesMc80  CS411         3           5       4   \n",
       "...         ...              ...    ...       ...         ...     ...   \n",
       "77505     77505      RaymondPe92  CS411         3           2       5   \n",
       "77506     77506        JamieMi37  CS411         5           3       5   \n",
       "77507     77507      MatthewVi76  CS411         2           2       5   \n",
       "77508     77508     PatriciaDe20  CS411         3           2       5   \n",
       "77509     77509       TravisBu65  CS411         5           2       5   \n",
       "\n",
       "                                              TextReview               Date  \\\n",
       "77248                                       Great course   23 December 2010   \n",
       "77249  The course is very superficial in nature and t...  06 September 2010   \n",
       "77250  Very elementary coursework. Quizzes were too s...   15 December 2010   \n",
       "77251  Useful in everyday life as in professional car...  13 September 2010   \n",
       "77252  This course provided clear tips and reflective...    03 October 2010   \n",
       "...                                                  ...                ...   \n",
       "77505  Great Course, I really enjoyed it. The course ...   22 December 2021   \n",
       "77506  For folks that have never programmed this clas...    22 January 2022   \n",
       "77507  Neatly explained. Easy to learn and must for b...   30 November 2021   \n",
       "77508  Through this course I've got to know about the...   11 February 2021   \n",
       "77509  very interesting, very helpful, very entertain...       25 June 2021   \n",
       "\n",
       "              Term  \n",
       "77248    Fall-2010  \n",
       "77249    Fall-2010  \n",
       "77250    Fall-2010  \n",
       "77251    Fall-2010  \n",
       "77252    Fall-2010  \n",
       "...            ...  \n",
       "77505    Fall-2021  \n",
       "77506    Fall-2021  \n",
       "77507    Fall-2021  \n",
       "77508  Spring-2021  \n",
       "77509  Summer-2021  \n",
       "\n",
       "[262 rows x 9 columns]"
      ]
     },
     "execution_count": 128,
     "metadata": {},
     "output_type": "execute_result"
    }
   ],
   "source": [
    "reviews[reviews['CRN']=='CS411']"
   ]
  },
  {
   "cell_type": "code",
   "execution_count": 15,
   "id": "0b785974",
   "metadata": {},
   "outputs": [],
   "source": [
    "from profanity_filter import ProfanityFilter"
   ]
  },
  {
   "cell_type": "code",
   "execution_count": 23,
   "id": "6fdb8dcb",
   "metadata": {},
   "outputs": [],
   "source": []
  },
  {
   "cell_type": "code",
   "execution_count": 16,
   "id": "fce6fc49",
   "metadata": {},
   "outputs": [
    {
     "name": "stdout",
     "output_type": "stream",
     "text": [
      "Review Accepted\n"
     ]
    }
   ],
   "source": [
    "from better_profanity import profanity\n",
    "from langdetect import detect\n",
    "dirty_text='Good Course'\n",
    "a=profanity.contains_profanity(dirty_text)\n",
    "b=detect(dirty_text)\n",
    "if a==True:\n",
    "    print('Review Discarded Due to Profanity')\n",
    "elif b!='en':\n",
    "    print('Gibberish Review')\n",
    "else:\n",
    "    print('Review Accepted')\n",
    "    "
   ]
  },
  {
   "cell_type": "code",
   "execution_count": 22,
   "id": "54eeda93",
   "metadata": {},
   "outputs": [],
   "source": []
  },
  {
   "cell_type": "code",
   "execution_count": null,
   "id": "6a3b89cb",
   "metadata": {},
   "outputs": [],
   "source": []
  }
 ],
 "metadata": {
  "kernelspec": {
   "display_name": "Python 3 (ipykernel)",
   "language": "python",
   "name": "python3"
  },
  "language_info": {
   "codemirror_mode": {
    "name": "ipython",
    "version": 3
   },
   "file_extension": ".py",
   "mimetype": "text/x-python",
   "name": "python",
   "nbconvert_exporter": "python",
   "pygments_lexer": "ipython3",
   "version": "3.9.13"
  }
 },
 "nbformat": 4,
 "nbformat_minor": 5
}
